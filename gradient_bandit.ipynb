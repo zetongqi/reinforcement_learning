{
 "cells": [
  {
   "cell_type": "code",
   "execution_count": 1,
   "metadata": {},
   "outputs": [],
   "source": [
    "import numpy as np\n",
    "from numba import jit\n",
    "import matplotlib.pyplot as plt"
   ]
  },
  {
   "cell_type": "code",
   "execution_count": 2,
   "metadata": {},
   "outputs": [],
   "source": [
    "# equivalent of np.random.choice with numba sipport\n",
    "@jit(nopython=True)\n",
    "def rand_choice_nb(k, prob):\n",
    "    return np.arange(k)[np.searchsorted(np.cumsum(prob), np.random.random(), side=\"right\")]"
   ]
  },
  {
   "cell_type": "code",
   "execution_count": 3,
   "metadata": {},
   "outputs": [],
   "source": [
    "@jit(nopython=True)\n",
    "# params: k: num of arms, alpha1: step size for updating H(a), alpha2: step size for computing average reward R_bar\n",
    "def gradient_bandit(k, alpha1, alpha2, steps=1000):\n",
    "    # nonstaionary environment setpup\n",
    "    mean = np.random.uniform(-2, 10, k)\n",
    "    cov = np.ones(k)\n",
    "    \n",
    "    # gradient bandit params initialization\n",
    "    H = np.zeros(k)\n",
    "    R_bar = 0\n",
    "    Pi = np.exp(H) / np.sum(np.exp(H))\n",
    "    \n",
    "    # avg reward per timestep\n",
    "    Rt = np.zeros(steps)\n",
    "    \n",
    "    # sum of rewards\n",
    "    R_sum = 0\n",
    "    \n",
    "    # percentages of optimal actions at each time step\n",
    "    opt_act = np.zeros(steps)\n",
    "    \n",
    "    # total number of optimal actions\n",
    "    opt_act_sum = 0\n",
    "    \n",
    "    for i in range(steps):\n",
    "        # select an action\n",
    "        a = rand_choice_nb(k, Pi)\n",
    "        \n",
    "        # if an action is optimal action, increment optimal action counter\n",
    "        if a == np.argmax(mean):\n",
    "            opt_act_sum += 1\n",
    "        opt_act[i] = opt_act_sum / (i + 1)\n",
    "        \n",
    "        # draw a reward from environment\n",
    "        R = np.random.normal(mean[a], cov[a])\n",
    "        \n",
    "        R_sum += R\n",
    "        Rt[i] = R_sum / (i + 1)\n",
    "        \n",
    "        # update H(a)\n",
    "        for j in range(k):\n",
    "            if j != a:\n",
    "                H[j] -= alpha1 * (R - R_bar) * Pi[j]\n",
    "        H[a] += alpha1 * (R - R_bar) * (1 - Pi[a])\n",
    "        \n",
    "        # update softmax distribution Pi\n",
    "        Pi = np.exp(H) / np.sum(np.exp(H))\n",
    "        \n",
    "        # update average reward R_bar\n",
    "        R_bar += alpha2 * (R - R_bar)\n",
    "        \n",
    "        # perturb the environment\n",
    "        for j in range(k):\n",
    "            mean[j] += np.random.normal(0, 1)\n",
    "            \n",
    "    return Rt, opt_act"
   ]
  },
  {
   "cell_type": "markdown",
   "metadata": {},
   "source": [
    "## Gradient bandit in a nonstationary environment"
   ]
  },
  {
   "cell_type": "code",
   "execution_count": 4,
   "metadata": {},
   "outputs": [
    {
     "name": "stdout",
     "output_type": "stream",
     "text": [
      "CPU times: user 23.5 s, sys: 132 ms, total: 23.7 s\n",
      "Wall time: 23.8 s\n"
     ]
    }
   ],
   "source": [
    "%%time\n",
    "steps = 10000\n",
    "k = 10\n",
    "rounds = 2000\n",
    "alpha1 = 0.1\n",
    "alpha2 = 0.1\n",
    "Rt = np.zeros(steps)\n",
    "Opt = np.zeros(steps)\n",
    "for i in range(rounds):\n",
    "    rt, opt = gradient_bandit(k, alpha1, alpha2, steps)\n",
    "    Rt += rt\n",
    "    Opt += opt\n",
    "Rt /= rounds\n",
    "Opt /= rounds"
   ]
  },
  {
   "cell_type": "code",
   "execution_count": 5,
   "metadata": {},
   "outputs": [
    {
     "data": {
      "image/png": "[encoded data removed]",
      "text/plain": [
       "<Figure size 960x288 with 2 Axes>"
      ]
     },
     "metadata": {
      "needs_background": "light"
     },
     "output_type": "display_data"
    }
   ],
   "source": [
    "fig = plt.figure(figsize=plt.figaspect(0.3))\n",
    "ax = fig.add_subplot(121)\n",
    "ax.plot(Rt, \"b\")\n",
    "plt.ylabel(\"average reward\")\n",
    "plt.xlabel(\"time step\")\n",
    "plt.title(\"average rewards\")\n",
    "\n",
    "ax = fig.add_subplot(122)\n",
    "ax.plot(Opt, \"g\")\n",
    "plt.ylabel(\"% optimal actions\")\n",
    "plt.xlabel(\"time step\")\n",
    "plt.title(\"% optimal actions\")\n",
    "plt.show()"
   ]
  },
  {
   "cell_type": "code",
   "execution_count": null,
   "metadata": {},
   "outputs": [],
   "source": []
  }
 ],
 "metadata": {
  "kernelspec": {
   "display_name": "Python 3",
   "language": "python",
   "name": "python3"
  },
  "language_info": {
   "codemirror_mode": {
    "name": "ipython",
    "version": 3
   },
   "file_extension": ".py",
   "mimetype": "text/x-python",
   "name": "python",
   "nbconvert_exporter": "python",
   "pygments_lexer": "ipython3",
   "version": "3.6.8"
  }
 },
 "nbformat": 4,
 "nbformat_minor": 4
}
