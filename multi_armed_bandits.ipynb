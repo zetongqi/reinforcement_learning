{
 "cells": [
  {
   "cell_type": "code",
   "execution_count": 1,
   "metadata": {},
   "outputs": [],
   "source": [
    "import numpy as np\n",
    "import matplotlib.pyplot as plt"
   ]
  },
  {
   "cell_type": "code",
   "execution_count": 2,
   "metadata": {},
   "outputs": [],
   "source": [
    "class environment:\n",
    "    def __init__(self, k):\n",
    "        self.k = k\n",
    "        self.mean = np.random.randint(-10, 20, k)\n",
    "        self.cov = np.eye(k)\n",
    "    \n",
    "    def pull(self, a):\n",
    "        return np.random.multivariate_normal(self.mean, self.cov)[a]\n",
    "    \n",
    "    def best_arm(self):\n",
    "        return np.argmax(self.mean)"
   ]
  },
  {
   "cell_type": "code",
   "execution_count": 3,
   "metadata": {},
   "outputs": [],
   "source": [
    "class epsilon_greedy_agent:\n",
    "    def __init__(self, epsilon, environment):\n",
    "        self.epsilon = epsilon\n",
    "        self.environment = environment\n",
    "        self.k = environment.k\n",
    "        self.N = np.zeros(self.k)\n",
    "        self.Q = np.zeros(self.k)\n",
    "        \n",
    "    def get_reward(self, action):\n",
    "        return self.environment.pull(action)\n",
    "    \n",
    "    def explore_and_exploit(self, steps=1000):\n",
    "        avg_rewards = np.zeros(steps)\n",
    "        total_reward = 0\n",
    "        for i in range(1, steps+1):\n",
    "            rand = np.random.rand()\n",
    "            if rand > self.epsilon:\n",
    "                max_actions = np.argwhere(self.Q == np.amax(self.Q))\n",
    "                action = max_actions[np.random.randint(0, len(max_actions))][0]\n",
    "            else:\n",
    "                action = np.random.randint(0, self.k)\n",
    "            reward = self.get_reward(action)\n",
    "            self.N[action] += 1\n",
    "            self.Q[action] += (1 / self.N[action]) * (reward - self.Q[action])\n",
    "            total_reward += reward\n",
    "            avg_rewards[i-1] = total_reward / i\n",
    "        return avg_rewards"
   ]
  },
  {
   "cell_type": "code",
   "execution_count": 4,
   "metadata": {},
   "outputs": [],
   "source": [
    "class UCB:\n",
    "    def __init__(self, c, environment):\n",
    "        self.c = c\n",
    "        self.environment = environment\n",
    "        self.k = environment.k\n",
    "        self.N = np.zeros(self.k)\n",
    "        self.Q = np.zeros(self.k)\n",
    "        \n",
    "    def get_reward(self, action):\n",
    "        return self.environment.pull(action)\n",
    "    \n",
    "    def explore_and_exploit(self, steps=1000):\n",
    "        avg_rewards = np.zeros(steps)\n",
    "        total_reward = 0\n",
    "        for i in range(1, steps+1):\n",
    "            ucb_estimates = self.Q + self.c * np.sqrt(np.log(i) / (self.N + 1e-16))\n",
    "            max_actions = np.argwhere(ucb_estimates == np.amax(ucb_estimates))\n",
    "            action = max_actions[np.random.randint(0, len(max_actions))][0]\n",
    "            reward = self.get_reward(action)\n",
    "            self.N[action] += 1\n",
    "            self.Q[action] += (1 / self.N[action]) * (reward - self.Q[action])\n",
    "            total_reward += reward\n",
    "            avg_rewards[i-1] = total_reward / i\n",
    "        return avg_rewards"
   ]
  },
  {
   "cell_type": "code",
   "execution_count": 5,
   "metadata": {},
   "outputs": [],
   "source": [
    "env = environment(10)\n",
    "env.mean = np.array([2, 1, -1.2, 5, 10, -0.2, 4, 6.8, -5, 0])"
   ]
  },
  {
   "cell_type": "code",
   "execution_count": 14,
   "metadata": {},
   "outputs": [],
   "source": [
    "epochs=2000\n",
    "steps=1000\n",
    "avg1 = np.zeros(steps)\n",
    "avg2 = np.zeros(steps)\n",
    "avg3 = np.zeros(steps)\n",
    "for i in range(epochs):\n",
    "    avg1 += epsilon_greedy_agent(0.1, env).explore_and_exploit(steps)\n",
    "    avg2 += epsilon_greedy_agent(0.01, env).explore_and_exploit(steps)\n",
    "    avg3 += UCB(2, env).explore_and_exploit(steps)\n",
    "avg1 /= epochs\n",
    "avg2 /= epochs\n",
    "avg3 /= epochs"
   ]
  },
  {
   "cell_type": "code",
   "execution_count": 23,
   "metadata": {},
   "outputs": [
    {
     "data": {
      "text/plain": [
       "<matplotlib.legend.Legend at 0x7f855194c668>"
      ]
     },
     "execution_count": 23,
     "metadata": {},
     "output_type": "execute_result"
    },
    {
     "data": {
      "image/png": "[encoded data removed]",
      "text/plain": [
       "<Figure size 432x288 with 1 Axes>"
      ]
     },
     "metadata": {
      "needs_background": "light"
     },
     "output_type": "display_data"
    }
   ],
   "source": [
    "plt.plot(avg1, \"r\")\n",
    "plt.plot(avg2, \"b\")\n",
    "plt.plot(avg3, \"g\")\n",
    "plt.legend([\"epsilon=0.1\", \"epsilon=0.01\", \"UCB c=2\"])"
   ]
  },
  {
   "cell_type": "code",
   "execution_count": null,
   "metadata": {},
   "outputs": [],
   "source": []
  }
 ],
 "metadata": {
  "kernelspec": {
   "display_name": "Python 3",
   "language": "python",
   "name": "python3"
  },
  "language_info": {
   "codemirror_mode": {
    "name": "ipython",
    "version": 3
   },
   "file_extension": ".py",
   "mimetype": "text/x-python",
   "name": "python",
   "nbconvert_exporter": "python",
   "pygments_lexer": "ipython3",
   "version": "3.6.8"
  }
 },
 "nbformat": 4,
 "nbformat_minor": 4
}
